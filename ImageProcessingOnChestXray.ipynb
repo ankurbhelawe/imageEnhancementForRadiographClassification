{
 "cells": [
  {
   "cell_type": "markdown",
   "metadata": {},
   "source": [
    "# Code\n",
    "## Applying Different Image Processing Techniques on Paul Mooney's Pneumonia Dataset\n",
    "### Imports"
   ]
  },
  {
   "cell_type": "code",
   "execution_count": 1,
   "metadata": {
    "_cell_guid": "b1076dfc-b9ad-4769-8c92-a6c4dae69d19",
    "_uuid": "8f2839f25d086af736a60e9eeb907d3b93b6e0e5"
   },
   "outputs": [
    {
     "name": "stderr",
     "output_type": "stream",
     "text": [
      "Using TensorFlow backend.\n"
     ]
    }
   ],
   "source": [
    "import numpy as np # forlinear algebra\n",
    "import matplotlib.pyplot as plt #for plotting things\n",
    "import os\n",
    "from PIL import Image\n",
    "import numpy as np\n",
    "import cv2\n",
    "from preprocessing import *\n",
    "\n",
    "# Keras Libraries\n",
    "import keras\n",
    "from keras.models import Sequential\n",
    "from keras.layers import Conv2D\n",
    "from keras.layers import MaxPooling2D\n",
    "from keras.layers import Flatten\n",
    "from keras.layers import Dense\n",
    "from keras.preprocessing.image import ImageDataGenerator, load_img\n",
    "from sklearn.metrics import classification_report, confusion_matrix"
   ]
  },
  {
   "cell_type": "markdown",
   "metadata": {},
   "source": [
    "### Function to load images"
   ]
  },
  {
   "cell_type": "code",
   "execution_count": 2,
   "metadata": {},
   "outputs": [],
   "source": [
    "def load_images_from_folder(folder):\n",
    "    images = []\n",
    "    for filename in os.listdir(folder):\n",
    "        img = cv2.imread(os.path.join(folder,filename))\n",
    "        if img is not None:\n",
    "            images.append(img)\n",
    "    return images"
   ]
  },
  {
   "cell_type": "markdown",
   "metadata": {},
   "source": [
    "## CNN without any image processing (78.7% accuracy)"
   ]
  },
  {
   "cell_type": "code",
   "execution_count": 3,
   "metadata": {},
   "outputs": [],
   "source": [
    "# Building the CNN model\n",
    "\n",
    "cnn = Sequential()\n",
    "\n",
    "#Convolution\n",
    "cnn.add(Conv2D(32, (3, 3), activation=\"relu\", input_shape=(64, 64, 3)))\n",
    "\n",
    "#Pooling\n",
    "cnn.add(MaxPooling2D(pool_size = (2, 2)))\n",
    "\n",
    "# 2nd Convolution\n",
    "cnn.add(Conv2D(32, (3, 3), activation=\"relu\"))\n",
    "\n",
    "# 2nd Pooling layer\n",
    "cnn.add(MaxPooling2D(pool_size = (2, 2)))\n",
    "\n",
    "# Flatten the layer\n",
    "cnn.add(Flatten())\n",
    "\n",
    "# Fully Connected Layers\n",
    "cnn.add(Dense(activation = 'relu', units = 128))\n",
    "cnn.add(Dense(activation = 'sigmoid', units = 1))\n",
    "\n",
    "# Compile the Neural network\n",
    "cnn.compile(optimizer = 'adam', loss = 'binary_crossentropy', metrics = ['accuracy'])"
   ]
  },
  {
   "cell_type": "code",
   "execution_count": 4,
   "metadata": {},
   "outputs": [],
   "source": [
    "num_of_test_samples = 600\n",
    "batch_size = 32"
   ]
  },
  {
   "cell_type": "code",
   "execution_count": 4,
   "metadata": {},
   "outputs": [
    {
     "name": "stdout",
     "output_type": "stream",
     "text": [
      "Found 5216 images belonging to 2 classes.\n",
      "Found 16 images belonging to 2 classes.\n",
      "Found 624 images belonging to 2 classes.\n"
     ]
    }
   ],
   "source": [
    "# Fitting the CNN to the images\n",
    "train_datagen = ImageDataGenerator(rescale = 1./255,\n",
    "                                   shear_range = 0.2,\n",
    "                                   zoom_range = 0.2,\n",
    "                                   horizontal_flip = True)\n",
    "\n",
    "test_datagen = ImageDataGenerator(rescale = 1./255)  #Image normalization.\n",
    "\n",
    "training_set = train_datagen.flow_from_directory('chest_xray/train',\n",
    "                                                 target_size = (64, 64),\n",
    "                                                 batch_size = 32,\n",
    "                                                 class_mode = 'binary')\n",
    "\n",
    "validation_generator = test_datagen.flow_from_directory('chest_xray/val/',\n",
    "    target_size=(64, 64),\n",
    "    batch_size=32,\n",
    "    class_mode='binary')\n",
    "\n",
    "test_set = test_datagen.flow_from_directory('chest_xray/test',\n",
    "                                            target_size = (64, 64),\n",
    "                                            batch_size = 32,\n",
    "                                            class_mode = 'binary')\n"
   ]
  },
  {
   "cell_type": "code",
   "execution_count": 5,
   "metadata": {},
   "outputs": [
    {
     "name": "stdout",
     "output_type": "stream",
     "text": [
      "Epoch 1/1\n",
      "163/163 [==============================] - 217s 1s/step - loss: 0.3705 - accuracy: 0.8313 - val_loss: 0.5735 - val_accuracy: 0.6875\n"
     ]
    }
   ],
   "source": [
    "cnn_model = cnn.fit_generator(training_set,\n",
    "                         steps_per_epoch = 163,\n",
    "                         epochs = 1,\n",
    "                         validation_data = validation_generator,\n",
    "                         validation_steps = 624)"
   ]
  },
  {
   "cell_type": "code",
   "execution_count": 6,
   "metadata": {},
   "outputs": [
    {
     "name": "stdout",
     "output_type": "stream",
     "text": [
      "The testing accuracy is : 78.70275378227234 %\n"
     ]
    }
   ],
   "source": [
    "test_accu = cnn.evaluate_generator(test_set,steps=624)\n",
    "print('The testing accuracy is :',test_accu[1]*100, '%')"
   ]
  },
  {
   "cell_type": "markdown",
   "metadata": {},
   "source": [
    "## Applying CLAHE (Contrast Limited Adaptive Histogram Equalization) (81.4%accuracy)"
   ]
  },
  {
   "cell_type": "code",
   "execution_count": 8,
   "metadata": {},
   "outputs": [],
   "source": [
    "trainClaheNORMAL=load_images_from_folder('chest_xray/train/NORMAL')"
   ]
  },
  {
   "cell_type": "code",
   "execution_count": 9,
   "metadata": {},
   "outputs": [],
   "source": [
    "for i in range (len(trainClaheNORMAL)):\n",
    "    img=trainClaheNORMAL[i]\n",
    "    gray_image = cv2.cvtColor(img, cv2.COLOR_BGR2GRAY)\n",
    "    # create a CLAHE object (Arguments are optional).\n",
    "    clahe = cv2.createCLAHE()\n",
    "    cl1 = clahe.apply(gray_image)\n",
    "    trainClaheNORMAL[i]=cl1"
   ]
  },
  {
   "cell_type": "code",
   "execution_count": 10,
   "metadata": {},
   "outputs": [],
   "source": [
    "for i in range (len(trainClaheNORMAL)):\n",
    "    img=trainClaheNORMAL[i]\n",
    "    cv2.imwrite('clahe/train/NORMAL/'+str(i)+'.jpeg', img)"
   ]
  },
  {
   "cell_type": "code",
   "execution_count": 11,
   "metadata": {},
   "outputs": [],
   "source": [
    "trainClahePNEUMONIA=load_images_from_folder('chest_xray/train/PNEUMONIA')"
   ]
  },
  {
   "cell_type": "code",
   "execution_count": 12,
   "metadata": {},
   "outputs": [],
   "source": [
    "for i in range (len(trainClahePNEUMONIA)):\n",
    "    img=trainClahePNEUMONIA[i]\n",
    "    gray_image = cv2.cvtColor(img, cv2.COLOR_BGR2GRAY)\n",
    "    # create a CLAHE object (Arguments are optional).\n",
    "    clahe = cv2.createCLAHE()\n",
    "    cl1 = clahe.apply(gray_image)\n",
    "    cv2.imwrite('clahe/train/PNEUMONIA/'+str(i)+'.jpeg', cl1)"
   ]
  },
  {
   "cell_type": "code",
   "execution_count": 2,
   "metadata": {},
   "outputs": [],
   "source": [
    "testClaheNORMAL=load_images_from_folder('chest_xray/test/NORMAL')"
   ]
  },
  {
   "cell_type": "code",
   "execution_count": 3,
   "metadata": {},
   "outputs": [],
   "source": [
    "for i in range (len(testClaheNORMAL)):\n",
    "    img=testClaheNORMAL[i]\n",
    "    gray_image = cv2.cvtColor(img, cv2.COLOR_BGR2GRAY)\n",
    "    # create a CLAHE object (Arguments are optional).\n",
    "    clahe = cv2.createCLAHE()\n",
    "    cl1 = clahe.apply(gray_image)\n",
    "    cv2.imwrite('clahe/test/NORMAL/'+str(i)+'.jpeg', cl1)"
   ]
  },
  {
   "cell_type": "code",
   "execution_count": 4,
   "metadata": {},
   "outputs": [],
   "source": [
    "testClahePNEUMONIA=load_images_from_folder('chest_xray/test/PNEUMONIA')"
   ]
  },
  {
   "cell_type": "code",
   "execution_count": 5,
   "metadata": {},
   "outputs": [],
   "source": [
    "for i in range (len(testClahePNEUMONIA)):\n",
    "    img=testClahePNEUMONIA[i]\n",
    "    gray_image = cv2.cvtColor(img, cv2.COLOR_BGR2GRAY)\n",
    "    # create a CLAHE object (Arguments are optional).\n",
    "    clahe = cv2.createCLAHE()\n",
    "    cl1 = clahe.apply(gray_image)\n",
    "    cv2.imwrite('clahe/test/PNEUMONIA/'+str(i)+'.jpeg', cl1)"
   ]
  },
  {
   "cell_type": "code",
   "execution_count": 6,
   "metadata": {},
   "outputs": [],
   "source": [
    "valClaheNORMAL=load_images_from_folder('chest_xray/val/NORMAL')"
   ]
  },
  {
   "cell_type": "code",
   "execution_count": 7,
   "metadata": {},
   "outputs": [],
   "source": [
    "for i in range (len(valClaheNORMAL)):\n",
    "    img=valClaheNORMAL[i]\n",
    "    gray_image = cv2.cvtColor(img, cv2.COLOR_BGR2GRAY)\n",
    "    # create a CLAHE object (Arguments are optional).\n",
    "    clahe = cv2.createCLAHE()\n",
    "    cl1 = clahe.apply(gray_image)\n",
    "    cv2.imwrite('clahe/val/NORMAL/'+str(i)+'.jpeg', cl1)"
   ]
  },
  {
   "cell_type": "code",
   "execution_count": 8,
   "metadata": {},
   "outputs": [],
   "source": [
    "valClahePNEUMONIA=load_images_from_folder('chest_xray/val/PNEUMONIA')"
   ]
  },
  {
   "cell_type": "code",
   "execution_count": 9,
   "metadata": {},
   "outputs": [],
   "source": [
    "for i in range (len(valClahePNEUMONIA)):\n",
    "    img=valClahePNEUMONIA[i]\n",
    "    gray_image = cv2.cvtColor(img, cv2.COLOR_BGR2GRAY)\n",
    "    # create a CLAHE object (Arguments are optional).\n",
    "    clahe = cv2.createCLAHE()\n",
    "    cl1 = clahe.apply(gray_image)\n",
    "    cv2.imwrite('clahe/val/PNEUMONIA/'+str(i)+'.jpeg', cl1)"
   ]
  },
  {
   "cell_type": "markdown",
   "metadata": {},
   "source": [
    "### Retraining same model with CLAHE applied on dataset"
   ]
  },
  {
   "cell_type": "code",
   "execution_count": 13,
   "metadata": {},
   "outputs": [
    {
     "name": "stdout",
     "output_type": "stream",
     "text": [
      "Found 5216 images belonging to 2 classes.\n",
      "Found 16 images belonging to 2 classes.\n",
      "Found 624 images belonging to 2 classes.\n"
     ]
    }
   ],
   "source": [
    "# Fitting the CNN to the images\n",
    "\n",
    "train_datagen = ImageDataGenerator(rescale = 1./255,\n",
    "                                   shear_range = 0.2,\n",
    "                                   zoom_range = 0.2,\n",
    "                                   horizontal_flip = True)\n",
    "\n",
    "test_datagen = ImageDataGenerator(rescale = 1./255)  #Image normalization.\n",
    "\n",
    "training_set = train_datagen.flow_from_directory('clahe/train',\n",
    "                                                 target_size = (64, 64),\n",
    "                                                 batch_size = 32,\n",
    "                                                 class_mode = 'binary')\n",
    "\n",
    "validation_generator = test_datagen.flow_from_directory('clahe/val/',\n",
    "    target_size=(64, 64),\n",
    "    batch_size=32,\n",
    "    class_mode='binary')\n",
    "\n",
    "test_set = test_datagen.flow_from_directory('clahe/test',\n",
    "                                            target_size = (64, 64),\n",
    "                                            batch_size = 32,\n",
    "                                            class_mode = 'binary')\n"
   ]
  },
  {
   "cell_type": "code",
   "execution_count": 14,
   "metadata": {},
   "outputs": [
    {
     "name": "stdout",
     "output_type": "stream",
     "text": [
      "Epoch 1/1\n",
      "163/163 [==============================] - 260s 2s/step - loss: 0.3917 - accuracy: 0.8221 - val_loss: 0.4944 - val_accuracy: 0.8125\n"
     ]
    }
   ],
   "source": [
    "cnn_model = cnn.fit_generator(training_set,\n",
    "                         steps_per_epoch = 163,\n",
    "                         epochs = 1,\n",
    "                         validation_data = validation_generator,\n",
    "                         validation_steps = 624)"
   ]
  },
  {
   "cell_type": "code",
   "execution_count": 15,
   "metadata": {},
   "outputs": [
    {
     "name": "stdout",
     "output_type": "stream",
     "text": [
      "The testing accuracy is : 81.41947388648987 %\n"
     ]
    }
   ],
   "source": [
    "test_accu = cnn.evaluate_generator(test_set,steps=624)\n",
    "print('The testing accuracy is :',test_accu[1]*100, '%')"
   ]
  },
  {
   "cell_type": "markdown",
   "metadata": {},
   "source": [
    "## Applying Contraharmonic Mean Filter (85.1% accuracy)"
   ]
  },
  {
   "cell_type": "code",
   "execution_count": 2,
   "metadata": {},
   "outputs": [],
   "source": [
    "def contraharmonic_mean(img, size, Q):\n",
    "    num = np.power(img, Q + 1)\n",
    "    denom = np.power(img, Q)\n",
    "    kernel = np.full(size, 1.0)\n",
    "    result = cv2.filter2D(num, -1, kernel) / cv2.filter2D(denom, -1, kernel)\n",
    "    return result"
   ]
  },
  {
   "cell_type": "code",
   "execution_count": 18,
   "metadata": {},
   "outputs": [],
   "source": [
    "testCMFNORMAL=load_images_from_folder('chest_xray/test/NORMAL')"
   ]
  },
  {
   "cell_type": "code",
   "execution_count": 21,
   "metadata": {},
   "outputs": [
    {
     "name": "stderr",
     "output_type": "stream",
     "text": [
      "<ipython-input-17-5d8a55d23b1e>:5: RuntimeWarning: invalid value encountered in true_divide\n",
      "  result = cv2.filter2D(num, -1, kernel) / cv2.filter2D(denom, -1, kernel)\n"
     ]
    }
   ],
   "source": [
    "for i in range (len(testCMFNORMAL)):\n",
    "    img=testCMFNORMAL[i]\n",
    "    gray_image = cv2.cvtColor(img, cv2.COLOR_BGR2GRAY)\n",
    "    cl1 = contraharmonic_mean(gray_image, (3,3), 0.5)\n",
    "    cv2.imwrite('cmf/test/NORMAL/'+str(i)+'.jpeg', cl1)"
   ]
  },
  {
   "cell_type": "code",
   "execution_count": 22,
   "metadata": {},
   "outputs": [],
   "source": [
    "testcmfPNEUMONIA=load_images_from_folder('chest_xray/test/PNEUMONIA')"
   ]
  },
  {
   "cell_type": "code",
   "execution_count": 23,
   "metadata": {},
   "outputs": [
    {
     "name": "stderr",
     "output_type": "stream",
     "text": [
      "<ipython-input-17-5d8a55d23b1e>:5: RuntimeWarning: invalid value encountered in true_divide\n",
      "  result = cv2.filter2D(num, -1, kernel) / cv2.filter2D(denom, -1, kernel)\n"
     ]
    }
   ],
   "source": [
    "for i in range (len(testcmfPNEUMONIA)):\n",
    "    img=testcmfPNEUMONIA[i]\n",
    "    gray_image = cv2.cvtColor(img, cv2.COLOR_BGR2GRAY)\n",
    "    cl1 = contraharmonic_mean(gray_image, (3,3), 0.5)\n",
    "    cv2.imwrite('cmf/test/PNEUMONIA/'+str(i)+'.jpeg', cl1)"
   ]
  },
  {
   "cell_type": "code",
   "execution_count": 3,
   "metadata": {},
   "outputs": [],
   "source": [
    "trainCMFNORMAL=load_images_from_folder('chest_xray/train/NORMAL')"
   ]
  },
  {
   "cell_type": "code",
   "execution_count": 4,
   "metadata": {},
   "outputs": [
    {
     "name": "stderr",
     "output_type": "stream",
     "text": [
      "<ipython-input-2-5d8a55d23b1e>:5: RuntimeWarning: invalid value encountered in true_divide\n",
      "  result = cv2.filter2D(num, -1, kernel) / cv2.filter2D(denom, -1, kernel)\n"
     ]
    }
   ],
   "source": [
    "for i in range (len(trainCMFNORMAL)):\n",
    "    img=trainCMFNORMAL[i]\n",
    "    gray_image = cv2.cvtColor(img, cv2.COLOR_BGR2GRAY)\n",
    "    cl1 = contraharmonic_mean(gray_image, (3,3), 0.5)\n",
    "    cv2.imwrite('cmf/train/NORMAL/'+str(i)+'.jpeg', cl1)"
   ]
  },
  {
   "cell_type": "code",
   "execution_count": 3,
   "metadata": {},
   "outputs": [],
   "source": [
    "traincmfPNEUMONIA=load_images_from_folder('chest_xray/train/PNEUMONIA')"
   ]
  },
  {
   "cell_type": "code",
   "execution_count": 6,
   "metadata": {},
   "outputs": [
    {
     "name": "stderr",
     "output_type": "stream",
     "text": [
      "<ipython-input-5-5d8a55d23b1e>:5: RuntimeWarning: invalid value encountered in true_divide\n",
      "  result = cv2.filter2D(num, -1, kernel) / cv2.filter2D(denom, -1, kernel)\n"
     ]
    }
   ],
   "source": [
    "for i in range (len(traincmfPNEUMONIA)):\n",
    "    img=traincmfPNEUMONIA[i]\n",
    "    gray_image = cv2.cvtColor(img, cv2.COLOR_BGR2GRAY)\n",
    "    cl1 = contraharmonic_mean(gray_image, (3,3), 0.5)\n",
    "    cv2.imwrite('cmf/train/PNEUMONIA/'+str(i)+'.jpeg', cl1)"
   ]
  },
  {
   "cell_type": "code",
   "execution_count": 3,
   "metadata": {},
   "outputs": [],
   "source": [
    "valCMFNORMAL=load_images_from_folder('chest_xray/val/NORMAL')"
   ]
  },
  {
   "cell_type": "code",
   "execution_count": 4,
   "metadata": {},
   "outputs": [
    {
     "name": "stderr",
     "output_type": "stream",
     "text": [
      "<ipython-input-2-5d8a55d23b1e>:5: RuntimeWarning: invalid value encountered in true_divide\n",
      "  result = cv2.filter2D(num, -1, kernel) / cv2.filter2D(denom, -1, kernel)\n"
     ]
    }
   ],
   "source": [
    "for i in range (len(valCMFNORMAL)):\n",
    "    img=valCMFNORMAL[i]\n",
    "    gray_image = cv2.cvtColor(img, cv2.COLOR_BGR2GRAY)\n",
    "    cl1 = contraharmonic_mean(gray_image, (3,3), 0.5)\n",
    "    cv2.imwrite('cmf/val/NORMAL/'+str(i)+'.jpeg', cl1)"
   ]
  },
  {
   "cell_type": "code",
   "execution_count": 5,
   "metadata": {},
   "outputs": [],
   "source": [
    "valcmfPNEUMONIA=load_images_from_folder('chest_xray/val/PNEUMONIA')"
   ]
  },
  {
   "cell_type": "code",
   "execution_count": 6,
   "metadata": {},
   "outputs": [
    {
     "name": "stderr",
     "output_type": "stream",
     "text": [
      "<ipython-input-2-5d8a55d23b1e>:5: RuntimeWarning: invalid value encountered in true_divide\n",
      "  result = cv2.filter2D(num, -1, kernel) / cv2.filter2D(denom, -1, kernel)\n"
     ]
    }
   ],
   "source": [
    "for i in range (len(valcmfPNEUMONIA)):\n",
    "    img=valcmfPNEUMONIA[i]\n",
    "    gray_image = cv2.cvtColor(img, cv2.COLOR_BGR2GRAY)\n",
    "    cl1 = contraharmonic_mean(gray_image, (3,3), 0.5)\n",
    "    cv2.imwrite('cmf/val/PNEUMONIA/'+str(i)+'.jpeg', cl1)"
   ]
  },
  {
   "cell_type": "code",
   "execution_count": 10,
   "metadata": {},
   "outputs": [
    {
     "name": "stdout",
     "output_type": "stream",
     "text": [
      "Found 5216 images belonging to 2 classes.\n",
      "Found 16 images belonging to 2 classes.\n",
      "Found 624 images belonging to 2 classes.\n"
     ]
    }
   ],
   "source": [
    "# Fitting the CNN to the images\n",
    "\n",
    "train_datagen = ImageDataGenerator(rescale = 1./255,\n",
    "                                   shear_range = 0.2,\n",
    "                                   zoom_range = 0.2,\n",
    "                                   horizontal_flip = True)\n",
    "\n",
    "test_datagen = ImageDataGenerator(rescale = 1./255)  #Image normalization.\n",
    "\n",
    "training_set = train_datagen.flow_from_directory('cmf/train',\n",
    "                                                 target_size = (64, 64),\n",
    "                                                 batch_size = 32,\n",
    "                                                 class_mode = 'binary')\n",
    "\n",
    "validation_generator = test_datagen.flow_from_directory('cmf/val/',\n",
    "    target_size=(64, 64),\n",
    "    batch_size=32,\n",
    "    class_mode='binary')\n",
    "\n",
    "test_set = test_datagen.flow_from_directory('cmf/test',\n",
    "                                            target_size = (64, 64),\n",
    "                                            batch_size = 32,\n",
    "                                            class_mode = 'binary')\n"
   ]
  },
  {
   "cell_type": "code",
   "execution_count": 11,
   "metadata": {},
   "outputs": [
    {
     "name": "stdout",
     "output_type": "stream",
     "text": [
      "Epoch 1/1\n",
      "163/163 [==============================] - 246s 2s/step - loss: 0.4253 - accuracy: 0.8027 - val_loss: 0.3559 - val_accuracy: 0.9375\n"
     ]
    }
   ],
   "source": [
    "cnn_model = cnn.fit_generator(training_set,\n",
    "                         steps_per_epoch = 163,\n",
    "                         epochs = 1,\n",
    "                         validation_data = validation_generator,\n",
    "                         validation_steps = 624)"
   ]
  },
  {
   "cell_type": "code",
   "execution_count": 12,
   "metadata": {},
   "outputs": [
    {
     "name": "stdout",
     "output_type": "stream",
     "text": [
      "The testing accuracy is : 85.10681986808777 %\n"
     ]
    }
   ],
   "source": [
    "test_accu = cnn.evaluate_generator(test_set,steps=624)\n",
    "print('The testing accuracy is :',test_accu[1]*100, '%')"
   ]
  },
  {
   "cell_type": "markdown",
   "metadata": {},
   "source": [
    "## Applying Erosion (86.5% accuracy)"
   ]
  },
  {
   "cell_type": "code",
   "execution_count": 5,
   "metadata": {},
   "outputs": [],
   "source": [
    "def erosion(image, erosionType, kernelSize):\n",
    "  if len(image.shape)>2:\n",
    "    raise \"Shape mismatch\"\n",
    "  element = cv2.getStructuringElement(erosionType, \n",
    "                                      (2*kernelSize + 1, 2*kernelSize+1), \n",
    "                                      (kernelSize, kernelSize))\n",
    "  erodedImage = cv2.erode(image, element)\n",
    "  return erodedImage"
   ]
  },
  {
   "cell_type": "code",
   "execution_count": 8,
   "metadata": {},
   "outputs": [],
   "source": [
    "testerosionNORMAL=load_images_from_folder('chest_xray/test/NORMAL')"
   ]
  },
  {
   "cell_type": "code",
   "execution_count": 10,
   "metadata": {},
   "outputs": [],
   "source": [
    "for i in range (len(testerosionNORMAL)):\n",
    "    img=testerosionNORMAL[i]\n",
    "    gray_image = cv2.cvtColor(img, cv2.COLOR_BGR2GRAY)\n",
    "    cl1 = erosion(gray_image, cv2.MORPH_ELLIPSE, 1)\n",
    "    cv2.imwrite('erosion/test/NORMAL/'+str(i)+'.jpeg', cl1)"
   ]
  },
  {
   "cell_type": "code",
   "execution_count": 3,
   "metadata": {},
   "outputs": [],
   "source": [
    "testerosionPNEUMONIA=load_images_from_folder('chest_xray/test/PNEUMONIA')"
   ]
  },
  {
   "cell_type": "code",
   "execution_count": 8,
   "metadata": {},
   "outputs": [],
   "source": [
    "for i in range (len(testerosionPNEUMONIA)):\n",
    "    img=testerosionPNEUMONIA[i]\n",
    "    gray_image = cv2.cvtColor(img, cv2.COLOR_BGR2GRAY)\n",
    "    cl1 = erosion(gray_image, cv2.MORPH_ELLIPSE, 1)\n",
    "    cv2.imwrite('erosion/test/PNEUMONIA/'+str(i)+'.jpeg', cl1)"
   ]
  },
  {
   "cell_type": "code",
   "execution_count": 9,
   "metadata": {},
   "outputs": [],
   "source": [
    "valerosionNORMAL=load_images_from_folder('chest_xray/val/NORMAL')"
   ]
  },
  {
   "cell_type": "code",
   "execution_count": 10,
   "metadata": {},
   "outputs": [],
   "source": [
    "for i in range (len(valerosionNORMAL)):\n",
    "    img=valerosionNORMAL[i]\n",
    "    gray_image = cv2.cvtColor(img, cv2.COLOR_BGR2GRAY)\n",
    "    cl1 = erosion(gray_image, cv2.MORPH_ELLIPSE, 1)\n",
    "    cv2.imwrite('erosion/val/NORMAL/'+str(i)+'.jpeg', cl1)"
   ]
  },
  {
   "cell_type": "code",
   "execution_count": 11,
   "metadata": {},
   "outputs": [],
   "source": [
    "valerosionPNEUMONIA=load_images_from_folder('chest_xray/val/PNEUMONIA')"
   ]
  },
  {
   "cell_type": "code",
   "execution_count": 12,
   "metadata": {},
   "outputs": [],
   "source": [
    "for i in range (len(valerosionPNEUMONIA)):\n",
    "    img=valerosionPNEUMONIA[i]\n",
    "    gray_image = cv2.cvtColor(img, cv2.COLOR_BGR2GRAY)\n",
    "    cl1 = erosion(gray_image, cv2.MORPH_ELLIPSE, 1)\n",
    "    cv2.imwrite('erosion/val/PNEUMONIA/'+str(i)+'.jpeg', cl1)"
   ]
  },
  {
   "cell_type": "code",
   "execution_count": 3,
   "metadata": {},
   "outputs": [],
   "source": [
    "trainerosionNORMAL=load_images_from_folder('chest_xray/train/NORMAL')"
   ]
  },
  {
   "cell_type": "code",
   "execution_count": 6,
   "metadata": {},
   "outputs": [],
   "source": [
    "for i in range (len(trainerosionNORMAL)):\n",
    "    img=trainerosionNORMAL[i]\n",
    "    gray_image = cv2.cvtColor(img, cv2.COLOR_BGR2GRAY)\n",
    "    cl1 = erosion(gray_image, cv2.MORPH_ELLIPSE, 1)\n",
    "    cv2.imwrite('erosion/train/NORMAL/'+str(i)+'.jpeg', cl1)"
   ]
  },
  {
   "cell_type": "code",
   "execution_count": 3,
   "metadata": {},
   "outputs": [],
   "source": [
    "trainerosionPNEUMONIA=load_images_from_folder('chest_xray/train/PNEUMONIA')"
   ]
  },
  {
   "cell_type": "code",
   "execution_count": 6,
   "metadata": {},
   "outputs": [],
   "source": [
    "for i in range (len(trainerosionPNEUMONIA)):\n",
    "    img=trainerosionPNEUMONIA[i]\n",
    "    gray_image = cv2.cvtColor(img, cv2.COLOR_BGR2GRAY)\n",
    "    cl1 = erosion(gray_image, cv2.MORPH_ELLIPSE, 1)\n",
    "    cv2.imwrite('erosion/train/PNEUMONIA/'+str(i)+'.jpeg', cl1)"
   ]
  },
  {
   "cell_type": "code",
   "execution_count": 4,
   "metadata": {},
   "outputs": [
    {
     "name": "stdout",
     "output_type": "stream",
     "text": [
      "Found 5216 images belonging to 2 classes.\n",
      "Found 16 images belonging to 2 classes.\n",
      "Found 624 images belonging to 2 classes.\n"
     ]
    }
   ],
   "source": [
    "# Fitting the CNN to the images\n",
    "train_datagen = ImageDataGenerator(rescale = 1./255,\n",
    "                                   shear_range = 0.2,\n",
    "                                   zoom_range = 0.2,\n",
    "                                   horizontal_flip = True)\n",
    "\n",
    "test_datagen = ImageDataGenerator(rescale = 1./255)  #Image normalization.\n",
    "\n",
    "training_set = train_datagen.flow_from_directory('erosion/train',\n",
    "                                                 target_size = (64, 64),\n",
    "                                                 batch_size = 32,\n",
    "                                                 class_mode = 'binary')\n",
    "\n",
    "validation_generator = test_datagen.flow_from_directory('erosion/val/',\n",
    "    target_size=(64, 64),\n",
    "    batch_size=32,\n",
    "    class_mode='binary')\n",
    "\n",
    "test_set = test_datagen.flow_from_directory('erosion/test',\n",
    "                                            target_size = (64, 64),\n",
    "                                            batch_size = 32,\n",
    "                                            class_mode = 'binary')\n"
   ]
  },
  {
   "cell_type": "code",
   "execution_count": 5,
   "metadata": {},
   "outputs": [
    {
     "name": "stdout",
     "output_type": "stream",
     "text": [
      "Epoch 1/1\n",
      "163/163 [==============================] - 297s 2s/step - loss: 0.3800 - accuracy: 0.8328 - val_loss: 0.3820 - val_accuracy: 0.8750\n"
     ]
    }
   ],
   "source": [
    "cnn_model = cnn.fit_generator(training_set,\n",
    "                         steps_per_epoch = 163,\n",
    "                         epochs = 1,\n",
    "                         validation_data = validation_generator,\n",
    "                         validation_steps = 624)"
   ]
  },
  {
   "cell_type": "code",
   "execution_count": 6,
   "metadata": {},
   "outputs": [
    {
     "name": "stdout",
     "output_type": "stream",
     "text": [
      "The testing accuracy is : 86.54478192329407 %\n"
     ]
    }
   ],
   "source": [
    "test_accu = cnn.evaluate_generator(test_set,steps=624)\n",
    "print('The testing accuracy is :',test_accu[1]*100, '%')"
   ]
  },
  {
   "cell_type": "markdown",
   "metadata": {},
   "source": [
    "## Applying Dilation (Accuracy 87.19%)"
   ]
  },
  {
   "cell_type": "code",
   "execution_count": 3,
   "metadata": {},
   "outputs": [],
   "source": [
    "def dilate(image, kernelSize, erosionType):\n",
    "  if len(image.shape)>2:\n",
    "    raise \"Shape mismatch\"\n",
    "  element = cv2.getStructuringElement(erosionType, (2*kernelSize + 1, 2*kernelSize+1), \n",
    "                                      (kernelSize, kernelSize))\n",
    "  dilatedImage = cv2.dilate(image, element)\n",
    "  return dilatedImage"
   ]
  },
  {
   "cell_type": "code",
   "execution_count": 5,
   "metadata": {},
   "outputs": [],
   "source": [
    "testDilationNORMAL=load_images_from_folder('chest_xray/test/NORMAL')"
   ]
  },
  {
   "cell_type": "code",
   "execution_count": 6,
   "metadata": {},
   "outputs": [],
   "source": [
    "for i in range (len(testDilationNORMAL)):\n",
    "    img=testDilationNORMAL[i]\n",
    "    gray_image = cv2.cvtColor(img, cv2.COLOR_BGR2GRAY)\n",
    "    cl1 = dilate(gray_image, 5, cv2.MORPH_ELLIPSE)\n",
    "    cv2.imwrite('dilate/test/NORMAL/'+str(i)+'.jpeg', cl1)"
   ]
  },
  {
   "cell_type": "code",
   "execution_count": 7,
   "metadata": {},
   "outputs": [],
   "source": [
    "testDilationPNEUMONIA=load_images_from_folder('chest_xray/test/PNEUMONIA')"
   ]
  },
  {
   "cell_type": "code",
   "execution_count": 8,
   "metadata": {},
   "outputs": [],
   "source": [
    "for i in range (len(testDilationPNEUMONIA)):\n",
    "    img=testDilationPNEUMONIA[i]\n",
    "    gray_image = cv2.cvtColor(img, cv2.COLOR_BGR2GRAY)\n",
    "    cl1 = dilate(gray_image, 5, cv2.MORPH_ELLIPSE)\n",
    "    cv2.imwrite('dilate/test/PNEUMONIA/'+str(i)+'.jpeg', cl1)"
   ]
  },
  {
   "cell_type": "code",
   "execution_count": 9,
   "metadata": {},
   "outputs": [],
   "source": [
    "valDilationNORMAL=load_images_from_folder('chest_xray/val/NORMAL')"
   ]
  },
  {
   "cell_type": "code",
   "execution_count": 10,
   "metadata": {},
   "outputs": [],
   "source": [
    "for i in range (len(valDilationNORMAL)):\n",
    "    img=valDilationNORMAL[i]\n",
    "    gray_image = cv2.cvtColor(img, cv2.COLOR_BGR2GRAY)\n",
    "    cl1 = dilate(gray_image, 5, cv2.MORPH_ELLIPSE)\n",
    "    cv2.imwrite('dilate/val/NORMAL/'+str(i)+'.jpeg', cl1)"
   ]
  },
  {
   "cell_type": "code",
   "execution_count": 11,
   "metadata": {},
   "outputs": [],
   "source": [
    "valDilationPNEUMONIA=load_images_from_folder('chest_xray/val/PNEUMONIA')"
   ]
  },
  {
   "cell_type": "code",
   "execution_count": 12,
   "metadata": {},
   "outputs": [],
   "source": [
    "for i in range (len(valDilationPNEUMONIA)):\n",
    "    img=valDilationPNEUMONIA[i]\n",
    "    gray_image = cv2.cvtColor(img, cv2.COLOR_BGR2GRAY)\n",
    "    cl1 = dilate(gray_image, 5, cv2.MORPH_ELLIPSE)\n",
    "    cv2.imwrite('dilate/val/PNEUMONIA/'+str(i)+'.jpeg', cl1)"
   ]
  },
  {
   "cell_type": "code",
   "execution_count": 3,
   "metadata": {},
   "outputs": [],
   "source": [
    "trainDilationNORMAL=load_images_from_folder('chest_xray/train/NORMAL')"
   ]
  },
  {
   "cell_type": "code",
   "execution_count": 6,
   "metadata": {},
   "outputs": [],
   "source": [
    "for i in range (len(trainDilationNORMAL)):\n",
    "    img=trainDilationNORMAL[i]\n",
    "    gray_image = cv2.cvtColor(img, cv2.COLOR_BGR2GRAY)\n",
    "    cl1 = dilate(gray_image, 5, cv2.MORPH_ELLIPSE)\n",
    "    cv2.imwrite('dilate/train/NORMAL/'+str(i)+'.jpeg', cl1)"
   ]
  },
  {
   "cell_type": "code",
   "execution_count": 4,
   "metadata": {},
   "outputs": [],
   "source": [
    "trainDilationPNEUMONIA=load_images_from_folder('chest_xray/train/PNEUMONIA')"
   ]
  },
  {
   "cell_type": "code",
   "execution_count": 5,
   "metadata": {},
   "outputs": [],
   "source": [
    "for i in range (len(trainDilationPNEUMONIA)):\n",
    "    img=trainDilationPNEUMONIA[i]\n",
    "    gray_image = cv2.cvtColor(img, cv2.COLOR_BGR2GRAY)\n",
    "    cl1 = dilate(gray_image, 5, cv2.MORPH_ELLIPSE)\n",
    "    cv2.imwrite('dilate/train/PNEUMONIA/'+str(i)+'.jpeg', cl1)"
   ]
  },
  {
   "cell_type": "code",
   "execution_count": 4,
   "metadata": {},
   "outputs": [
    {
     "name": "stdout",
     "output_type": "stream",
     "text": [
      "Found 5216 images belonging to 2 classes.\n",
      "Found 16 images belonging to 2 classes.\n",
      "Found 624 images belonging to 2 classes.\n"
     ]
    }
   ],
   "source": [
    "# Fitting the CNN to the images\n",
    "train_datagen = ImageDataGenerator(rescale = 1./255,\n",
    "                                   shear_range = 0.2,\n",
    "                                   zoom_range = 0.2,\n",
    "                                   horizontal_flip = True)\n",
    "\n",
    "test_datagen = ImageDataGenerator(rescale = 1./255)  #Image normalization.\n",
    "\n",
    "training_set = train_datagen.flow_from_directory('dilate/train',\n",
    "                                                 target_size = (64, 64),\n",
    "                                                 batch_size = 32,\n",
    "                                                 class_mode = 'binary')\n",
    "\n",
    "validation_generator = test_datagen.flow_from_directory('dilate/val/',\n",
    "    target_size=(64, 64),\n",
    "    batch_size=32,\n",
    "    class_mode='binary')\n",
    "\n",
    "test_set = test_datagen.flow_from_directory('dilate/test',\n",
    "                                            target_size = (64, 64),\n",
    "                                            batch_size = 32,\n",
    "                                            class_mode = 'binary')\n"
   ]
  },
  {
   "cell_type": "code",
   "execution_count": 5,
   "metadata": {},
   "outputs": [
    {
     "name": "stdout",
     "output_type": "stream",
     "text": [
      "Epoch 1/1\n",
      "163/163 [==============================] - 257s 2s/step - loss: 0.3385 - accuracy: 0.8484 - val_loss: 0.4564 - val_accuracy: 0.8125\n"
     ]
    }
   ],
   "source": [
    "cnn_model = cnn.fit_generator(training_set,\n",
    "                         steps_per_epoch = 163,\n",
    "                         epochs = 1,\n",
    "                         validation_data = validation_generator,\n",
    "                         validation_steps = 624)"
   ]
  },
  {
   "cell_type": "code",
   "execution_count": 6,
   "metadata": {},
   "outputs": [
    {
     "name": "stdout",
     "output_type": "stream",
     "text": [
      "The testing accuracy is : 87.19186782836914 %\n"
     ]
    }
   ],
   "source": [
    "test_accu = cnn.evaluate_generator(test_set,steps=624)\n",
    "print('The testing accuracy is :',test_accu[1]*100, '%')"
   ]
  },
  {
   "cell_type": "markdown",
   "metadata": {},
   "source": [
    "## Applying OpenImage (86.85% accuracy)"
   ]
  },
  {
   "cell_type": "code",
   "execution_count": 3,
   "metadata": {},
   "outputs": [],
   "source": [
    "def openImage(image, kernelSize):\n",
    "  if len(image.shape)>2:\n",
    "    raise \"Shape mismatch\"\n",
    "  erosionType = cv2.MORPH_ELLIPSE\n",
    "  element = cv2.getStructuringElement(erosionType, (2*kernelSize + 1, 2*kernelSize+1), \n",
    "                                      (kernelSize, kernelSize))\n",
    "  dst = cv2.morphologyEx(image, cv2.MORPH_OPEN, element)\n",
    "  return dst"
   ]
  },
  {
   "cell_type": "code",
   "execution_count": 4,
   "metadata": {},
   "outputs": [],
   "source": [
    "testOINORMAL=load_images_from_folder('chest_xray/test/NORMAL')"
   ]
  },
  {
   "cell_type": "code",
   "execution_count": 5,
   "metadata": {},
   "outputs": [],
   "source": [
    "for i in range (len(testOINORMAL)):\n",
    "    img=testOINORMAL[i]\n",
    "    gray_image = cv2.cvtColor(img, cv2.COLOR_BGR2GRAY)\n",
    "    cl1 = openImage(gray_image, 5)\n",
    "    cv2.imwrite('oi/test/NORMAL/'+str(i)+'.jpeg', cl1)"
   ]
  },
  {
   "cell_type": "code",
   "execution_count": 6,
   "metadata": {},
   "outputs": [],
   "source": [
    "testOIPNEUMONIA=load_images_from_folder('chest_xray/test/PNEUMONIA')"
   ]
  },
  {
   "cell_type": "code",
   "execution_count": 7,
   "metadata": {},
   "outputs": [],
   "source": [
    "for i in range (len(testOIPNEUMONIA)):\n",
    "    img=testOIPNEUMONIA[i]\n",
    "    gray_image = cv2.cvtColor(img, cv2.COLOR_BGR2GRAY)\n",
    "    cl1 = openImage(gray_image, 5)\n",
    "    cv2.imwrite('oi/test/PNEUMONIA/'+str(i)+'.jpeg', cl1)"
   ]
  },
  {
   "cell_type": "code",
   "execution_count": 8,
   "metadata": {},
   "outputs": [],
   "source": [
    "valOINORMAL=load_images_from_folder('chest_xray/val/NORMAL')"
   ]
  },
  {
   "cell_type": "code",
   "execution_count": 9,
   "metadata": {},
   "outputs": [],
   "source": [
    "for i in range (len(valOINORMAL)):\n",
    "    img=valOINORMAL[i]\n",
    "    gray_image = cv2.cvtColor(img, cv2.COLOR_BGR2GRAY)\n",
    "    cl1 = openImage(gray_image, 5)\n",
    "    cv2.imwrite('oi/val/NORMAL/'+str(i)+'.jpeg', cl1)"
   ]
  },
  {
   "cell_type": "code",
   "execution_count": 10,
   "metadata": {},
   "outputs": [],
   "source": [
    "valOIPNEUMONIA=load_images_from_folder('chest_xray/val/PNEUMONIA')"
   ]
  },
  {
   "cell_type": "code",
   "execution_count": 11,
   "metadata": {},
   "outputs": [],
   "source": [
    "for i in range (len(valOIPNEUMONIA)):\n",
    "    img=valOIPNEUMONIA[i]\n",
    "    gray_image = cv2.cvtColor(img, cv2.COLOR_BGR2GRAY)\n",
    "    cl1 = openImage(gray_image, 5)\n",
    "    cv2.imwrite('oi/val/PNEUMONIA/'+str(i)+'.jpeg', cl1)"
   ]
  },
  {
   "cell_type": "code",
   "execution_count": 12,
   "metadata": {},
   "outputs": [],
   "source": [
    "trainOINORMAL=load_images_from_folder('chest_xray/train/NORMAL')"
   ]
  },
  {
   "cell_type": "code",
   "execution_count": 13,
   "metadata": {},
   "outputs": [],
   "source": [
    "for i in range (len(trainOINORMAL)):\n",
    "    img=trainOINORMAL[i]\n",
    "    gray_image = cv2.cvtColor(img, cv2.COLOR_BGR2GRAY)\n",
    "    cl1 = openImage(gray_image, 5)\n",
    "    cv2.imwrite('oi/train/NORMAL/'+str(i)+'.jpeg', cl1)"
   ]
  },
  {
   "cell_type": "code",
   "execution_count": 4,
   "metadata": {},
   "outputs": [],
   "source": [
    "trainOIPNEUMONIA=load_images_from_folder('chest_xray/train/PNEUMONIA')"
   ]
  },
  {
   "cell_type": "code",
   "execution_count": 5,
   "metadata": {},
   "outputs": [],
   "source": [
    "for i in range (len(trainOIPNEUMONIA)):\n",
    "    img=trainOIPNEUMONIA[i]\n",
    "    gray_image = cv2.cvtColor(img, cv2.COLOR_BGR2GRAY)\n",
    "    cl1 = openImage(gray_image, 5)\n",
    "    cv2.imwrite('oi/train/PNEUMONIA/'+str(i)+'.jpeg', cl1)"
   ]
  },
  {
   "cell_type": "code",
   "execution_count": 4,
   "metadata": {},
   "outputs": [
    {
     "name": "stdout",
     "output_type": "stream",
     "text": [
      "Found 5216 images belonging to 2 classes.\n",
      "Found 16 images belonging to 2 classes.\n",
      "Found 624 images belonging to 2 classes.\n"
     ]
    }
   ],
   "source": [
    "# Fitting the CNN to the images\n",
    "train_datagen = ImageDataGenerator(rescale = 1./255,\n",
    "                                   shear_range = 0.2,\n",
    "                                   zoom_range = 0.2,\n",
    "                                   horizontal_flip = True)\n",
    "\n",
    "test_datagen = ImageDataGenerator(rescale = 1./255)  #Image normalization.\n",
    "\n",
    "training_set = train_datagen.flow_from_directory('oi/train',\n",
    "                                                 target_size = (64, 64),\n",
    "                                                 batch_size = 32,\n",
    "                                                 class_mode = 'binary')\n",
    "\n",
    "validation_generator = test_datagen.flow_from_directory('oi/val/',\n",
    "    target_size=(64, 64),\n",
    "    batch_size=32,\n",
    "    class_mode='binary')\n",
    "\n",
    "test_set = test_datagen.flow_from_directory('oi/test',\n",
    "                                            target_size = (64, 64),\n",
    "                                            batch_size = 32,\n",
    "                                            class_mode = 'binary')\n"
   ]
  },
  {
   "cell_type": "code",
   "execution_count": 5,
   "metadata": {},
   "outputs": [
    {
     "name": "stdout",
     "output_type": "stream",
     "text": [
      "Epoch 1/1\n",
      "163/163 [==============================] - 238s 1s/step - loss: 0.3415 - accuracy: 0.8499 - val_loss: 0.4091 - val_accuracy: 0.8125\n"
     ]
    }
   ],
   "source": [
    "cnn_model = cnn.fit_generator(training_set,\n",
    "                         steps_per_epoch = 163,\n",
    "                         epochs = 1,\n",
    "                         validation_data = validation_generator,\n",
    "                         validation_steps = 624)"
   ]
  },
  {
   "cell_type": "code",
   "execution_count": 6,
   "metadata": {},
   "outputs": [
    {
     "name": "stdout",
     "output_type": "stream",
     "text": [
      "The testing accuracy is : 86.85805201530457 %\n"
     ]
    }
   ],
   "source": [
    "test_accu = cnn.evaluate_generator(test_set,steps=624)\n",
    "print('The testing accuracy is :',test_accu[1]*100, '%')"
   ]
  },
  {
   "cell_type": "markdown",
   "metadata": {},
   "source": [
    "## Applying closeImage (accuracy 81.56%)"
   ]
  },
  {
   "cell_type": "code",
   "execution_count": 3,
   "metadata": {},
   "outputs": [],
   "source": [
    "def closeImage(image, kernelSize):\n",
    "  if len(image.shape)>2:\n",
    "    raise \"Shape mismatch\"\n",
    "  erosionType = cv2.MORPH_ELLIPSE\n",
    "  element = cv2.getStructuringElement(erosionType, (2*kernelSize + 1, 2*kernelSize+1), \n",
    "                                      (kernelSize, kernelSize))\n",
    "  dst = cv2.morphologyEx(image, cv2.MORPH_CLOSE, element)\n",
    "  return dst"
   ]
  },
  {
   "cell_type": "code",
   "execution_count": 11,
   "metadata": {},
   "outputs": [],
   "source": [
    "testCINORMAL=load_images_from_folder('chest_xray/test/NORMAL')"
   ]
  },
  {
   "cell_type": "code",
   "execution_count": 12,
   "metadata": {},
   "outputs": [],
   "source": [
    "for i in range (len(testCINORMAL)):\n",
    "    img=testCINORMAL[i]\n",
    "    gray_image = cv2.cvtColor(img, cv2.COLOR_BGR2GRAY)\n",
    "    cl1 = closeImage(gray_image, 5)\n",
    "    cv2.imwrite('ci/test/NORMAL/'+str(i)+'.jpeg', cl1)"
   ]
  },
  {
   "cell_type": "code",
   "execution_count": 13,
   "metadata": {},
   "outputs": [],
   "source": [
    "testCIPNEUMONIA=load_images_from_folder('chest_xray/test/PNEUMONIA')"
   ]
  },
  {
   "cell_type": "code",
   "execution_count": 14,
   "metadata": {},
   "outputs": [],
   "source": [
    "for i in range (len(testCIPNEUMONIA)):\n",
    "    img=testCIPNEUMONIA[i]\n",
    "    gray_image = cv2.cvtColor(img, cv2.COLOR_BGR2GRAY)\n",
    "    cl1 = closeImage(gray_image, 5)\n",
    "    cv2.imwrite('ci/test/PNEUMONIA/'+str(i)+'.jpeg', cl1)"
   ]
  },
  {
   "cell_type": "code",
   "execution_count": 15,
   "metadata": {},
   "outputs": [],
   "source": [
    "valCINORMAL=load_images_from_folder('chest_xray/val/NORMAL')"
   ]
  },
  {
   "cell_type": "code",
   "execution_count": 16,
   "metadata": {},
   "outputs": [],
   "source": [
    "for i in range (len(valCINORMAL)):\n",
    "    img=valCINORMAL[i]\n",
    "    gray_image = cv2.cvtColor(img, cv2.COLOR_BGR2GRAY)\n",
    "    cl1 = closeImage(gray_image, 5)\n",
    "    cv2.imwrite('ci/val/NORMAL/'+str(i)+'.jpeg', cl1)"
   ]
  },
  {
   "cell_type": "code",
   "execution_count": 17,
   "metadata": {},
   "outputs": [],
   "source": [
    "valCIPNEUMONIA=load_images_from_folder('chest_xray/val/PNEUMONIA')"
   ]
  },
  {
   "cell_type": "code",
   "execution_count": 18,
   "metadata": {},
   "outputs": [],
   "source": [
    "for i in range (len(valCIPNEUMONIA)):\n",
    "    img=valCIPNEUMONIA[i]\n",
    "    gray_image = cv2.cvtColor(img, cv2.COLOR_BGR2GRAY)\n",
    "    cl1 = closeImage(gray_image, 5)\n",
    "    cv2.imwrite('ci/val/PNEUMONIA/'+str(i)+'.jpeg', cl1)"
   ]
  },
  {
   "cell_type": "code",
   "execution_count": 19,
   "metadata": {},
   "outputs": [],
   "source": [
    "trainCINORMAL=load_images_from_folder('chest_xray/train/NORMAL')"
   ]
  },
  {
   "cell_type": "code",
   "execution_count": 20,
   "metadata": {},
   "outputs": [],
   "source": [
    "for i in range (len(trainCINORMAL)):\n",
    "    img=trainCINORMAL[i]\n",
    "    gray_image = cv2.cvtColor(img, cv2.COLOR_BGR2GRAY)\n",
    "    cl1 = closeImage(gray_image, 5)\n",
    "    cv2.imwrite('ci/train/NORMAL/'+str(i)+'.jpeg', cl1)"
   ]
  },
  {
   "cell_type": "code",
   "execution_count": 4,
   "metadata": {},
   "outputs": [],
   "source": [
    "trainCIPNEUMONIA=load_images_from_folder('chest_xray/train/PNEUMONIA')"
   ]
  },
  {
   "cell_type": "code",
   "execution_count": 5,
   "metadata": {},
   "outputs": [],
   "source": [
    "for i in range (len(trainCIPNEUMONIA)):\n",
    "    img=trainCIPNEUMONIA[i]\n",
    "    gray_image = cv2.cvtColor(img, cv2.COLOR_BGR2GRAY)\n",
    "    cl1 = closeImage(gray_image, 5)\n",
    "    cv2.imwrite('ci/train/PNEUMONIA/'+str(i)+'.jpeg', cl1)"
   ]
  },
  {
   "cell_type": "code",
   "execution_count": 5,
   "metadata": {},
   "outputs": [
    {
     "name": "stdout",
     "output_type": "stream",
     "text": [
      "Found 5216 images belonging to 2 classes.\n",
      "Found 16 images belonging to 2 classes.\n",
      "Found 624 images belonging to 2 classes.\n"
     ]
    }
   ],
   "source": [
    "# Fitting the CNN to the images\n",
    "train_datagen = ImageDataGenerator(rescale = 1./255,\n",
    "                                   shear_range = 0.2,\n",
    "                                   zoom_range = 0.2,\n",
    "                                   horizontal_flip = True)\n",
    "\n",
    "test_datagen = ImageDataGenerator(rescale = 1./255)  #Image normalization.\n",
    "\n",
    "training_set = train_datagen.flow_from_directory('ci/train',\n",
    "                                                 target_size = (64, 64),\n",
    "                                                 batch_size = 32,\n",
    "                                                 class_mode = 'binary')\n",
    "\n",
    "validation_generator = test_datagen.flow_from_directory('ci/val/',\n",
    "    target_size=(64, 64),\n",
    "    batch_size=32,\n",
    "    class_mode='binary')\n",
    "\n",
    "test_set = test_datagen.flow_from_directory('ci/test',\n",
    "                                            target_size = (64, 64),\n",
    "                                            batch_size = 32,\n",
    "                                            class_mode = 'binary')\n"
   ]
  },
  {
   "cell_type": "code",
   "execution_count": 6,
   "metadata": {},
   "outputs": [
    {
     "name": "stdout",
     "output_type": "stream",
     "text": [
      "Epoch 1/1\n",
      "163/163 [==============================] - 212s 1s/step - loss: 0.3904 - accuracy: 0.8269 - val_loss: 0.5017 - val_accuracy: 0.7500\n"
     ]
    }
   ],
   "source": [
    "cnn_model = cnn.fit_generator(training_set,\n",
    "                         steps_per_epoch = 163,\n",
    "                         epochs = 1,\n",
    "                         validation_data = validation_generator,\n",
    "                         validation_steps = 624)"
   ]
  },
  {
   "cell_type": "code",
   "execution_count": 7,
   "metadata": {},
   "outputs": [
    {
     "name": "stdout",
     "output_type": "stream",
     "text": [
      "The testing accuracy is : 81.56840801239014 %\n"
     ]
    }
   ],
   "source": [
    "test_accu = cnn.evaluate_generator(test_set,steps=624)\n",
    "print('The testing accuracy is :',test_accu[1]*100, '%')"
   ]
  },
  {
   "cell_type": "markdown",
   "metadata": {},
   "source": [
    "## Applying Gradient Image  (accuracy 66.39%)"
   ]
  },
  {
   "cell_type": "code",
   "execution_count": 3,
   "metadata": {},
   "outputs": [],
   "source": [
    "def gradientImage(image, kernelSize):\n",
    "  if len(image.shape)>2:\n",
    "    raise \"Shape mismatch\"\n",
    "  erosionType = cv2.MORPH_ELLIPSE\n",
    "  element = cv2.getStructuringElement(erosionType, (2*kernelSize + 1, 2*kernelSize+1), \n",
    "                                      (kernelSize, kernelSize))\n",
    "  dst = cv2.morphologyEx(image, cv2.MORPH_GRADIENT, element)\n",
    "  return dst"
   ]
  },
  {
   "cell_type": "code",
   "execution_count": 6,
   "metadata": {},
   "outputs": [],
   "source": [
    "testGINORMAL=load_images_from_folder('chest_xray/test/NORMAL')"
   ]
  },
  {
   "cell_type": "code",
   "execution_count": 9,
   "metadata": {},
   "outputs": [],
   "source": [
    "for i in range (len(testGINORMAL)):\n",
    "    img=testGINORMAL[i]\n",
    "    gray_image = cv2.cvtColor(img, cv2.COLOR_BGR2GRAY)\n",
    "    cl1 = gradientImage(gray_image, 3)\n",
    "    cv2.imwrite('gi/test/NORMAL/'+str(i)+'.jpeg', cl1)"
   ]
  },
  {
   "cell_type": "code",
   "execution_count": 16,
   "metadata": {},
   "outputs": [],
   "source": [
    "testGIPNEUMONIA=load_images_from_folder('chest_xray/test/PNEUMONIA')"
   ]
  },
  {
   "cell_type": "code",
   "execution_count": 17,
   "metadata": {},
   "outputs": [],
   "source": [
    "for i in range (len(testGIPNEUMONIA)):\n",
    "    img=testGIPNEUMONIA[i]\n",
    "    gray_image = cv2.cvtColor(img, cv2.COLOR_BGR2GRAY)\n",
    "    cl1 = gradientImage(gray_image, 3)\n",
    "    cv2.imwrite('gi/test/PNEUMONIA/'+str(i)+'.jpeg', cl1)"
   ]
  },
  {
   "cell_type": "code",
   "execution_count": 20,
   "metadata": {},
   "outputs": [],
   "source": [
    "valGINORMAL=load_images_from_folder('chest_xray/val/NORMAL')"
   ]
  },
  {
   "cell_type": "code",
   "execution_count": 21,
   "metadata": {},
   "outputs": [],
   "source": [
    "for i in range (len(valGINORMAL)):\n",
    "    img=valGINORMAL[i]\n",
    "    gray_image = cv2.cvtColor(img, cv2.COLOR_BGR2GRAY)\n",
    "    cl1 = gradientImage(gray_image, 3)\n",
    "    cv2.imwrite('gi/val/NORMAL/'+str(i)+'.jpeg', cl1)"
   ]
  },
  {
   "cell_type": "code",
   "execution_count": 24,
   "metadata": {},
   "outputs": [],
   "source": [
    "valGIPNEUMONIA=load_images_from_folder('chest_xray/val/PNEUMONIA')"
   ]
  },
  {
   "cell_type": "code",
   "execution_count": 25,
   "metadata": {},
   "outputs": [],
   "source": [
    "for i in range (len(valGIPNEUMONIA)):\n",
    "    img=valGIPNEUMONIA[i]\n",
    "    gray_image = cv2.cvtColor(img, cv2.COLOR_BGR2GRAY)\n",
    "    cl1 = gradientImage(gray_image, 3)\n",
    "    cv2.imwrite('gi/val/PNEUMONIA/'+str(i)+'.jpeg', cl1)"
   ]
  },
  {
   "cell_type": "code",
   "execution_count": 6,
   "metadata": {},
   "outputs": [],
   "source": [
    "trainGINORMAL=load_images_from_folder('chest_xray/train/NORMAL')"
   ]
  },
  {
   "cell_type": "code",
   "execution_count": 7,
   "metadata": {},
   "outputs": [],
   "source": [
    "for i in range (len(trainGINORMAL)):\n",
    "    img=trainGINORMAL[i]\n",
    "    gray_image = cv2.cvtColor(img, cv2.COLOR_BGR2GRAY)\n",
    "    cl1 = gradientImage(gray_image, 3)\n",
    "    cv2.imwrite('gi/train/NORMAL/'+str(i)+'.jpeg', cl1)"
   ]
  },
  {
   "cell_type": "code",
   "execution_count": 6,
   "metadata": {},
   "outputs": [],
   "source": [
    "trainGIPNEUMONIA=load_images_from_folder('chest_xray/train/PNEUMONIA')"
   ]
  },
  {
   "cell_type": "code",
   "execution_count": 7,
   "metadata": {},
   "outputs": [],
   "source": [
    "for i in range (len(trainGIPNEUMONIA)):\n",
    "    img=trainGIPNEUMONIA[i]\n",
    "    gray_image = cv2.cvtColor(img, cv2.COLOR_BGR2GRAY)\n",
    "    cl1 = gradientImage(gray_image, 3)\n",
    "    cv2.imwrite('gi/train/PNEUMONIA/'+str(i)+'.jpeg', cl1)"
   ]
  },
  {
   "cell_type": "code",
   "execution_count": 14,
   "metadata": {},
   "outputs": [
    {
     "name": "stdout",
     "output_type": "stream",
     "text": [
      "Found 5216 images belonging to 2 classes.\n",
      "Found 16 images belonging to 2 classes.\n",
      "Found 624 images belonging to 2 classes.\n"
     ]
    }
   ],
   "source": [
    "# Fitting the CNN to the images\n",
    "train_datagen = ImageDataGenerator(rescale = 1./255,\n",
    "                                   shear_range = 0.2,\n",
    "                                   zoom_range = 0.2,\n",
    "                                   horizontal_flip = True)\n",
    "\n",
    "test_datagen = ImageDataGenerator(rescale = 1./255)  #Image normalization.\n",
    "\n",
    "training_set = train_datagen.flow_from_directory('gi/train',\n",
    "                                                 target_size = (64, 64),\n",
    "                                                 batch_size = 32,\n",
    "                                                 class_mode = 'binary')\n",
    "\n",
    "validation_generator = test_datagen.flow_from_directory('gi/val/',\n",
    "    target_size=(64, 64),\n",
    "    batch_size=32,\n",
    "    class_mode='binary')\n",
    "\n",
    "test_set = test_datagen.flow_from_directory('gi/test',\n",
    "                                            target_size = (64, 64),\n",
    "                                            batch_size = 32,\n",
    "                                            class_mode = 'binary')\n"
   ]
  },
  {
   "cell_type": "code",
   "execution_count": 15,
   "metadata": {},
   "outputs": [
    {
     "name": "stdout",
     "output_type": "stream",
     "text": [
      "Epoch 1/1\n",
      "163/163 [==============================] - 269s 2s/step - loss: 0.2852 - accuracy: 0.8781 - val_loss: 1.5624 - val_accuracy: 0.6250\n"
     ]
    }
   ],
   "source": [
    "cnn_model = cnn.fit_generator(training_set,\n",
    "                         steps_per_epoch = 163,\n",
    "                         epochs = 1,\n",
    "                         validation_data = validation_generator,\n",
    "                         validation_steps = 624)"
   ]
  },
  {
   "cell_type": "code",
   "execution_count": 16,
   "metadata": {},
   "outputs": [
    {
     "name": "stdout",
     "output_type": "stream",
     "text": [
      "The testing accuracy is : 66.3927674293518 %\n"
     ]
    }
   ],
   "source": [
    "test_accu = cnn.evaluate_generator(test_set,steps=624)\n",
    "print('The testing accuracy is :',test_accu[1]*100, '%')"
   ]
  },
  {
   "cell_type": "markdown",
   "metadata": {},
   "source": [
    "## Equalizing Histogram (accuracy 62.49%)"
   ]
  },
  {
   "cell_type": "code",
   "execution_count": 4,
   "metadata": {},
   "outputs": [],
   "source": [
    "def equalizeHist(image, globalHist=False):\n",
    "  if globalHist:\n",
    "    img = exposure.equalize_hist(image)\n",
    "  else:\n",
    "    # Equalization\n",
    "    selem = disk(30)\n",
    "    img = rank.equalize(image, selem=selem)\n",
    "  return img"
   ]
  },
  {
   "cell_type": "code",
   "execution_count": null,
   "metadata": {},
   "outputs": [],
   "source": [
    "testEHNORMAL=load_images_from_folder('chest_xray/test/NORMAL')"
   ]
  },
  {
   "cell_type": "code",
   "execution_count": 14,
   "metadata": {},
   "outputs": [],
   "source": [
    "for i in range (len(testEHNORMAL)):\n",
    "    img=testEHNORMAL[i]\n",
    "    gray_image = cv2.cvtColor(img, cv2.COLOR_BGR2GRAY)\n",
    "    cl1 = equalizeHist(gray_image, globalHist=True)\n",
    "    cv2.imwrite('eh/test/NORMAL/'+str(i)+'.jpeg', cl1)"
   ]
  },
  {
   "cell_type": "code",
   "execution_count": null,
   "metadata": {},
   "outputs": [],
   "source": [
    "testEHPNEUMONIA=load_images_from_folder('chest_xray/test/PNEUMONIA')"
   ]
  },
  {
   "cell_type": "code",
   "execution_count": 18,
   "metadata": {},
   "outputs": [],
   "source": [
    "for i in range (len(testEHPNEUMONIA)):\n",
    "    img=testEHPNEUMONIA[i]\n",
    "    gray_image = cv2.cvtColor(img, cv2.COLOR_BGR2GRAY)\n",
    "    cl1 = equalizeHist(gray_image, globalHist=True)\n",
    "    cv2.imwrite('eh/test/PNEUMONIA/'+str(i)+'.jpeg', cl1)"
   ]
  },
  {
   "cell_type": "code",
   "execution_count": null,
   "metadata": {},
   "outputs": [],
   "source": [
    "valEHNORMAL=load_images_from_folder('chest_xray/val/NORMAL')"
   ]
  },
  {
   "cell_type": "code",
   "execution_count": 22,
   "metadata": {},
   "outputs": [],
   "source": [
    "for i in range (len(valEHNORMAL)):\n",
    "    img=valEHNORMAL[i]\n",
    "    gray_image = cv2.cvtColor(img, cv2.COLOR_BGR2GRAY)\n",
    "    cl1 = equalizeHist(gray_image, globalHist=True)\n",
    "    cv2.imwrite('eh/val/NORMAL/'+str(i)+'.jpeg', cl1)"
   ]
  },
  {
   "cell_type": "code",
   "execution_count": null,
   "metadata": {},
   "outputs": [],
   "source": [
    "valEHPNEUMONIA=load_images_from_folder('chest_xray/val/PNEUMONIA')"
   ]
  },
  {
   "cell_type": "code",
   "execution_count": 26,
   "metadata": {},
   "outputs": [],
   "source": [
    "for i in range (len(valEHPNEUMONIA)):\n",
    "    img=valEHPNEUMONIA[i]\n",
    "    gray_image = cv2.cvtColor(img, cv2.COLOR_BGR2GRAY)\n",
    "    cl1 = equalizeHist(gray_image, globalHist=True)\n",
    "    cv2.imwrite('eh/val/PNEUMONIA/'+str(i)+'.jpeg', cl1)"
   ]
  },
  {
   "cell_type": "code",
   "execution_count": null,
   "metadata": {},
   "outputs": [],
   "source": [
    "trainEHNORMAL=load_images_from_folder('chest_xray/train/NORMAL')"
   ]
  },
  {
   "cell_type": "code",
   "execution_count": 8,
   "metadata": {},
   "outputs": [],
   "source": [
    "for i in range (len(trainEHNORMAL)):\n",
    "    img=trainEHNORMAL[i]\n",
    "    gray_image = cv2.cvtColor(img, cv2.COLOR_BGR2GRAY)\n",
    "    cl1 = equalizeHist(gray_image, globalHist=True)\n",
    "    cv2.imwrite('eh/train/NORMAL/'+str(i)+'.jpeg', cl1)"
   ]
  },
  {
   "cell_type": "code",
   "execution_count": null,
   "metadata": {},
   "outputs": [],
   "source": [
    "trainEHPNEUMONIA=load_images_from_folder('chest_xray/train/PNEUMONIA')"
   ]
  },
  {
   "cell_type": "code",
   "execution_count": 8,
   "metadata": {},
   "outputs": [],
   "source": [
    "for i in range (len(trainEHPNEUMONIA)):\n",
    "    img=trainEHPNEUMONIA[i]\n",
    "    gray_image = cv2.cvtColor(img, cv2.COLOR_BGR2GRAY)\n",
    "    cl1 = equalizeHist(gray_image, globalHist=True)\n",
    "    cv2.imwrite('eh/train/PNEUMONIA/'+str(i)+'.jpeg', cl1)"
   ]
  },
  {
   "cell_type": "code",
   "execution_count": 5,
   "metadata": {},
   "outputs": [
    {
     "name": "stdout",
     "output_type": "stream",
     "text": [
      "Found 5216 images belonging to 2 classes.\n",
      "Found 16 images belonging to 2 classes.\n",
      "Found 624 images belonging to 2 classes.\n"
     ]
    }
   ],
   "source": [
    "# Fitting the CNN to the images\n",
    "train_datagen = ImageDataGenerator(rescale = 1./255,\n",
    "                                   shear_range = 0.2,\n",
    "                                   zoom_range = 0.2,\n",
    "                                   horizontal_flip = True)\n",
    "\n",
    "test_datagen = ImageDataGenerator(rescale = 1./255)  #Image normalization.\n",
    "\n",
    "training_set = train_datagen.flow_from_directory('eh/train',\n",
    "                                                 target_size = (64, 64),\n",
    "                                                 batch_size = 32,\n",
    "                                                 class_mode = 'binary')\n",
    "\n",
    "validation_generator = test_datagen.flow_from_directory('eh/val/',\n",
    "    target_size=(64, 64),\n",
    "    batch_size=32,\n",
    "    class_mode='binary')\n",
    "\n",
    "test_set = test_datagen.flow_from_directory('eh/test',\n",
    "                                            target_size = (64, 64),\n",
    "                                            batch_size = 32,\n",
    "                                            class_mode = 'binary')\n"
   ]
  },
  {
   "cell_type": "code",
   "execution_count": 6,
   "metadata": {},
   "outputs": [
    {
     "name": "stdout",
     "output_type": "stream",
     "text": [
      "Epoch 1/1\n",
      "163/163 [==============================] - 197s 1s/step - loss: 0.5458 - accuracy: 0.7406 - val_loss: 0.6446 - val_accuracy: 0.5000\n"
     ]
    }
   ],
   "source": [
    "cnn_model = cnn.fit_generator(training_set,\n",
    "                         steps_per_epoch = 163,\n",
    "                         epochs = 1,\n",
    "                         validation_data = validation_generator,\n",
    "                         validation_steps = 624)"
   ]
  },
  {
   "cell_type": "code",
   "execution_count": 7,
   "metadata": {},
   "outputs": [
    {
     "name": "stdout",
     "output_type": "stream",
     "text": [
      "The testing accuracy is : 62.4897301197052 %\n"
     ]
    }
   ],
   "source": [
    "test_accu = cnn.evaluate_generator(test_set,steps=624)\n",
    "print('The testing accuracy is :',test_accu[1]*100, '%')"
   ]
  },
  {
   "cell_type": "markdown",
   "metadata": {},
   "source": [
    "## Adaptive Equalisation (accuracy 62.48%)"
   ]
  },
  {
   "cell_type": "code",
   "execution_count": 5,
   "metadata": {},
   "outputs": [],
   "source": [
    "def adaptiveEq(image, limit=0.03):\n",
    "  # Adaptive Equalization\n",
    "  img_adapteq = exposure.equalize_adapthist(image, clip_limit=limit)\n",
    "  return img_adapteq"
   ]
  },
  {
   "cell_type": "code",
   "execution_count": null,
   "metadata": {},
   "outputs": [],
   "source": [
    "testAENORMAL=load_images_from_folder('chest_xray/test/NORMAL')"
   ]
  },
  {
   "cell_type": "code",
   "execution_count": 15,
   "metadata": {},
   "outputs": [],
   "source": [
    "for i in range (len(testAENORMAL)):\n",
    "    img=testAENORMAL[i]\n",
    "    gray_image = cv2.cvtColor(img, cv2.COLOR_BGR2GRAY)\n",
    "    cl1 = adaptiveEq(gray_image, 0.01)\n",
    "    cv2.imwrite('ae/test/NORMAL/'+str(i)+'.jpeg', cl1)"
   ]
  },
  {
   "cell_type": "code",
   "execution_count": null,
   "metadata": {},
   "outputs": [],
   "source": [
    "testAEPNEUMONIA=load_images_from_folder('chest_xray/test/PNEUMONIA')"
   ]
  },
  {
   "cell_type": "code",
   "execution_count": 19,
   "metadata": {},
   "outputs": [],
   "source": [
    "for i in range (len(testAEPNEUMONIA)):\n",
    "    img=testAEPNEUMONIA[i]\n",
    "    gray_image = cv2.cvtColor(img, cv2.COLOR_BGR2GRAY)\n",
    "    cl1 = adaptiveEq(gray_image, 0.01)\n",
    "    cv2.imwrite('ae/test/PNEUMONIA/'+str(i)+'.jpeg', cl1)"
   ]
  },
  {
   "cell_type": "code",
   "execution_count": null,
   "metadata": {},
   "outputs": [],
   "source": [
    "valAENORMAL=load_images_from_folder('chest_xray/val/NORMAL')"
   ]
  },
  {
   "cell_type": "code",
   "execution_count": 23,
   "metadata": {},
   "outputs": [],
   "source": [
    "for i in range (len(valAENORMAL)):\n",
    "    img=valAENORMAL[i]\n",
    "    gray_image = cv2.cvtColor(img, cv2.COLOR_BGR2GRAY)\n",
    "    cl1 = adaptiveEq(gray_image, 0.01)\n",
    "    cv2.imwrite('ae/val/NORMAL/'+str(i)+'.jpeg', cl1)"
   ]
  },
  {
   "cell_type": "code",
   "execution_count": null,
   "metadata": {},
   "outputs": [],
   "source": [
    "valAEPNEUMONIA=load_images_from_folder('chest_xray/val/PNEUMONIA')"
   ]
  },
  {
   "cell_type": "code",
   "execution_count": 27,
   "metadata": {},
   "outputs": [],
   "source": [
    "for i in range (len(valAEPNEUMONIA)):\n",
    "    img=valAEPNEUMONIA[i]\n",
    "    gray_image = cv2.cvtColor(img, cv2.COLOR_BGR2GRAY)\n",
    "    cl1 = adaptiveEq(gray_image, 0.01)\n",
    "    cv2.imwrite('ae/val/PNEUMONIA/'+str(i)+'.jpeg', cl1)"
   ]
  },
  {
   "cell_type": "code",
   "execution_count": null,
   "metadata": {},
   "outputs": [],
   "source": [
    "trainAENORMAL=load_images_from_folder('chest_xray/train/NORMAL')"
   ]
  },
  {
   "cell_type": "code",
   "execution_count": 9,
   "metadata": {},
   "outputs": [],
   "source": [
    "for i in range (len(trainAENORMAL)):\n",
    "    img=trainAENORMAL[i]\n",
    "    gray_image = cv2.cvtColor(img, cv2.COLOR_BGR2GRAY)\n",
    "    cl1 = adaptiveEq(gray_image, 0.01)\n",
    "    cv2.imwrite('ae/train/NORMAL/'+str(i)+'.jpeg', cl1)"
   ]
  },
  {
   "cell_type": "code",
   "execution_count": null,
   "metadata": {},
   "outputs": [],
   "source": [
    "trainAEPNEUMONIA=load_images_from_folder('chest_xray/train/PNEUMONIA')"
   ]
  },
  {
   "cell_type": "code",
   "execution_count": 9,
   "metadata": {},
   "outputs": [],
   "source": [
    "for i in range (len(trainAEPNEUMONIA)):\n",
    "    img=trainAEPNEUMONIA[i]\n",
    "    gray_image = cv2.cvtColor(img, cv2.COLOR_BGR2GRAY)\n",
    "    cl1 = adaptiveEq(gray_image, 0.01)\n",
    "    cv2.imwrite('ae/train/PNEUMONIA/'+str(i)+'.jpeg', cl1)"
   ]
  },
  {
   "cell_type": "code",
   "execution_count": 5,
   "metadata": {},
   "outputs": [
    {
     "name": "stdout",
     "output_type": "stream",
     "text": [
      "Found 5216 images belonging to 2 classes.\n",
      "Found 16 images belonging to 2 classes.\n",
      "Found 624 images belonging to 2 classes.\n"
     ]
    }
   ],
   "source": [
    "# Fitting the CNN to the images\n",
    "\n",
    "train_datagen = ImageDataGenerator(rescale = 1./255,\n",
    "                                   shear_range = 0.2,\n",
    "                                   zoom_range = 0.2,\n",
    "                                   horizontal_flip = True)\n",
    "\n",
    "test_datagen = ImageDataGenerator(rescale = 1./255)  #Image normalization.\n",
    "\n",
    "training_set = train_datagen.flow_from_directory('ae/train',\n",
    "                                                 target_size = (64, 64),\n",
    "                                                 batch_size = 32,\n",
    "                                                 class_mode = 'binary')\n",
    "\n",
    "validation_generator = test_datagen.flow_from_directory('ae/val/',\n",
    "    target_size=(64, 64),\n",
    "    batch_size=32,\n",
    "    class_mode='binary')\n",
    "\n",
    "test_set = test_datagen.flow_from_directory('ae/test',\n",
    "                                            target_size = (64, 64),\n",
    "                                            batch_size = 32,\n",
    "                                            class_mode = 'binary')\n"
   ]
  },
  {
   "cell_type": "code",
   "execution_count": 6,
   "metadata": {},
   "outputs": [
    {
     "name": "stdout",
     "output_type": "stream",
     "text": [
      "Epoch 1/1\n",
      "163/163 [==============================] - 191s 1s/step - loss: 0.5788 - accuracy: 0.7410 - val_loss: 0.7840 - val_accuracy: 0.5000\n"
     ]
    }
   ],
   "source": [
    "cnn_model = cnn.fit_generator(training_set,\n",
    "                         steps_per_epoch = 163,\n",
    "                         epochs = 1,\n",
    "                         validation_data = validation_generator,\n",
    "                         validation_steps = 624)"
   ]
  },
  {
   "cell_type": "code",
   "execution_count": 7,
   "metadata": {},
   "outputs": [
    {
     "name": "stdout",
     "output_type": "stream",
     "text": [
      "The testing accuracy is : 62.48459219932556 %\n"
     ]
    }
   ],
   "source": [
    "test_accu = cnn.evaluate_generator(test_set,steps=624)\n",
    "print('The testing accuracy is :',test_accu[1]*100, '%')"
   ]
  },
  {
   "cell_type": "markdown",
   "metadata": {},
   "source": [
    "## Applying Contrast Stretching (accuracy 86.03%)"
   ]
  },
  {
   "cell_type": "code",
   "execution_count": 8,
   "metadata": {},
   "outputs": [],
   "source": [
    "def contrastStretching(image):\n",
    "  # Contrast stretching\n",
    "  p2, p98 = np.percentile(image, (2, 98))\n",
    "  img_rescale = exposure.rescale_intensity(image, in_range=(p2, p98))\n",
    "  return img_rescale"
   ]
  },
  {
   "cell_type": "code",
   "execution_count": 12,
   "metadata": {},
   "outputs": [],
   "source": [
    "testCSNORMAL=load_images_from_folder('chest_xray/test/NORMAL')"
   ]
  },
  {
   "cell_type": "code",
   "execution_count": 15,
   "metadata": {},
   "outputs": [],
   "source": [
    "for i in range (len(testCSNORMAL)):\n",
    "    img=testCSNORMAL[i]\n",
    "    gray_image = cv2.cvtColor(img, cv2.COLOR_BGR2GRAY)\n",
    "    cl1 = contrastStretching(gray_image)\n",
    "    cv2.imwrite('cs/test/NORMAL/'+str(i)+'.jpeg', cl1)"
   ]
  },
  {
   "cell_type": "code",
   "execution_count": 17,
   "metadata": {},
   "outputs": [],
   "source": [
    "testCSPNEUMONIA=load_images_from_folder('chest_xray/test/PNEUMONIA')"
   ]
  },
  {
   "cell_type": "code",
   "execution_count": 18,
   "metadata": {},
   "outputs": [],
   "source": [
    "for i in range (len(testCSPNEUMONIA)):\n",
    "    img=testCSPNEUMONIA[i]\n",
    "    gray_image = cv2.cvtColor(img, cv2.COLOR_BGR2GRAY)\n",
    "    cl1 = contrastStretching(gray_image)\n",
    "    cv2.imwrite('cs/test/PNEUMONIA/'+str(i)+'.jpeg', cl1)"
   ]
  },
  {
   "cell_type": "code",
   "execution_count": 20,
   "metadata": {},
   "outputs": [],
   "source": [
    "valCSNORMAL=load_images_from_folder('chest_xray/val/NORMAL')"
   ]
  },
  {
   "cell_type": "code",
   "execution_count": 21,
   "metadata": {},
   "outputs": [],
   "source": [
    "for i in range (len(valCSNORMAL)):\n",
    "    img=valCSNORMAL[i]\n",
    "    gray_image = cv2.cvtColor(img, cv2.COLOR_BGR2GRAY)\n",
    "    cl1 = contrastStretching(gray_image)\n",
    "    cv2.imwrite('cs/val/NORMAL/'+str(i)+'.jpeg', cl1)"
   ]
  },
  {
   "cell_type": "code",
   "execution_count": 23,
   "metadata": {},
   "outputs": [],
   "source": [
    "valCSPNEUMONIA=load_images_from_folder('chest_xray/val/PNEUMONIA')"
   ]
  },
  {
   "cell_type": "code",
   "execution_count": 24,
   "metadata": {},
   "outputs": [],
   "source": [
    "for i in range (len(valCSPNEUMONIA)):\n",
    "    img=valCSPNEUMONIA[i]\n",
    "    gray_image = cv2.cvtColor(img, cv2.COLOR_BGR2GRAY)\n",
    "    cl1 = contrastStretching(gray_image)\n",
    "    cv2.imwrite('cs/val/PNEUMONIA/'+str(i)+'.jpeg', cl1)"
   ]
  },
  {
   "cell_type": "code",
   "execution_count": 26,
   "metadata": {},
   "outputs": [],
   "source": [
    "trainCSNORMAL=load_images_from_folder('chest_xray/train/NORMAL')"
   ]
  },
  {
   "cell_type": "code",
   "execution_count": 27,
   "metadata": {},
   "outputs": [],
   "source": [
    "for i in range (len(trainCSNORMAL)):\n",
    "    img=trainCSNORMAL[i]\n",
    "    gray_image = cv2.cvtColor(img, cv2.COLOR_BGR2GRAY)\n",
    "    cl1 = contrastStretching(gray_image)\n",
    "    cv2.imwrite('cs/train/NORMAL/'+str(i)+'.jpeg', cl1)"
   ]
  },
  {
   "cell_type": "code",
   "execution_count": 3,
   "metadata": {},
   "outputs": [],
   "source": [
    "trainCSPNEUMONIA=load_images_from_folder('chest_xray/train/PNEUMONIA')"
   ]
  },
  {
   "cell_type": "code",
   "execution_count": 4,
   "metadata": {},
   "outputs": [],
   "source": [
    "for i in range (len(trainCSPNEUMONIA)):\n",
    "    img=trainCSPNEUMONIA[i]\n",
    "    gray_image = cv2.cvtColor(img, cv2.COLOR_BGR2GRAY)\n",
    "    cl1 = contrastStretching(gray_image)\n",
    "    cv2.imwrite('cs/train/PNEUMONIA/'+str(i)+'.jpeg', cl1)"
   ]
  },
  {
   "cell_type": "code",
   "execution_count": 5,
   "metadata": {},
   "outputs": [
    {
     "name": "stdout",
     "output_type": "stream",
     "text": [
      "Found 5216 images belonging to 2 classes.\n",
      "Found 16 images belonging to 2 classes.\n",
      "Found 624 images belonging to 2 classes.\n"
     ]
    }
   ],
   "source": [
    "# Fitting the CNN to the images\n",
    "train_datagen = ImageDataGenerator(rescale = 1./255,\n",
    "                                   shear_range = 0.2,\n",
    "                                   zoom_range = 0.2,\n",
    "                                   horizontal_flip = True)\n",
    "\n",
    "test_datagen = ImageDataGenerator(rescale = 1./255)  #Image normalization.\n",
    "\n",
    "training_set = train_datagen.flow_from_directory('cs/train',\n",
    "                                                 target_size = (64, 64),\n",
    "                                                 batch_size = 32,\n",
    "                                                 class_mode = 'binary')\n",
    "\n",
    "validation_generator = test_datagen.flow_from_directory('cs/val/',\n",
    "    target_size=(64, 64),\n",
    "    batch_size=32,\n",
    "    class_mode='binary')\n",
    "\n",
    "test_set = test_datagen.flow_from_directory('cs/test',\n",
    "                                            target_size = (64, 64),\n",
    "                                            batch_size = 32,\n",
    "                                            class_mode = 'binary')\n"
   ]
  },
  {
   "cell_type": "code",
   "execution_count": 6,
   "metadata": {},
   "outputs": [
    {
     "name": "stdout",
     "output_type": "stream",
     "text": [
      "Epoch 1/1\n",
      "163/163 [==============================] - 312s 2s/step - loss: 0.3509 - accuracy: 0.8399 - val_loss: 0.4130 - val_accuracy: 0.7500\n"
     ]
    }
   ],
   "source": [
    "cnn_model = cnn.fit_generator(training_set,\n",
    "                         steps_per_epoch = 163,\n",
    "                         epochs = 1,\n",
    "                         validation_data = validation_generator,\n",
    "                         validation_steps = 624)"
   ]
  },
  {
   "cell_type": "code",
   "execution_count": 7,
   "metadata": {},
   "outputs": [
    {
     "name": "stdout",
     "output_type": "stream",
     "text": [
      "The testing accuracy is : 86.03122234344482 %\n"
     ]
    }
   ],
   "source": [
    "test_accu = cnn.evaluate_generator(test_set,steps=624)\n",
    "print('The testing accuracy is :',test_accu[1]*100, '%')"
   ]
  },
  {
   "cell_type": "markdown",
   "metadata": {},
   "source": [
    "## Applying Laplace (accuracy 62.5%)"
   ]
  },
  {
   "cell_type": "code",
   "execution_count": 5,
   "metadata": {},
   "outputs": [],
   "source": [
    "def laplace(image, kernelSize=3):\n",
    "  h = 100\n",
    "  mask = image - h\n",
    "  dst = filters.laplace(image, kernelSize, mask)\n",
    "  return dst"
   ]
  },
  {
   "cell_type": "code",
   "execution_count": null,
   "metadata": {},
   "outputs": [],
   "source": [
    "testLaplaceNORMAL=load_images_from_folder('chest_xray/test/NORMAL')"
   ]
  },
  {
   "cell_type": "code",
   "execution_count": 16,
   "metadata": {},
   "outputs": [],
   "source": [
    "for i in range (len(testCSNORMAL)):\n",
    "    img=testCSNORMAL[i]\n",
    "    gray_image = cv2.cvtColor(img, cv2.COLOR_BGR2GRAY)\n",
    "    cl1 = laplace(gray_image, 10)\n",
    "    cv2.imwrite('laplace/test/NORMAL/'+str(i)+'.jpeg', cl1)"
   ]
  },
  {
   "cell_type": "code",
   "execution_count": null,
   "metadata": {},
   "outputs": [],
   "source": [
    "testLaplacePNEUMONIA=load_images_from_folder('chest_xray/test/PNEUMONIA')"
   ]
  },
  {
   "cell_type": "code",
   "execution_count": 19,
   "metadata": {},
   "outputs": [],
   "source": [
    "for i in range (len(testLaplacePNEUMONIA)):\n",
    "    img=testLaplacePNEUMONIA[i]\n",
    "    gray_image = cv2.cvtColor(img, cv2.COLOR_BGR2GRAY)\n",
    "    cl1 = laplace(gray_image, 10)\n",
    "    cv2.imwrite('laplace/test/PNEUMONIA/'+str(i)+'.jpeg', cl1)"
   ]
  },
  {
   "cell_type": "code",
   "execution_count": null,
   "metadata": {},
   "outputs": [],
   "source": [
    "valLaplaceNORMAL=load_images_from_folder('chest_xray/val/NORMAL')"
   ]
  },
  {
   "cell_type": "code",
   "execution_count": 22,
   "metadata": {},
   "outputs": [],
   "source": [
    "for i in range (len(valLaplaceNORMAL)):\n",
    "    img=valLaplaceNORMAL[i]\n",
    "    gray_image = cv2.cvtColor(img, cv2.COLOR_BGR2GRAY)\n",
    "    cl1 = laplace(gray_image, 10)\n",
    "    cv2.imwrite('laplace/val/NORMAL/'+str(i)+'.jpeg', cl1)"
   ]
  },
  {
   "cell_type": "code",
   "execution_count": null,
   "metadata": {},
   "outputs": [],
   "source": [
    "valLaplacePNEUMONIA=load_images_from_folder('chest_xray/val/PNEUMONIA')"
   ]
  },
  {
   "cell_type": "code",
   "execution_count": 28,
   "metadata": {},
   "outputs": [],
   "source": [
    "for i in range (len(valLaplacePNEUMONIA)):\n",
    "    img=valLaplacePNEUMONIA[i]\n",
    "    gray_image = cv2.cvtColor(img, cv2.COLOR_BGR2GRAY)\n",
    "    cl1 = laplace(gray_image, 10)\n",
    "    cv2.imwrite('laplace/val/PNEUMONIA/'+str(i)+'.jpeg', cl1)"
   ]
  },
  {
   "cell_type": "code",
   "execution_count": null,
   "metadata": {},
   "outputs": [],
   "source": [
    "trainLaplaceNORMAL=load_images_from_folder('chest_xray/train/NORMAL')"
   ]
  },
  {
   "cell_type": "code",
   "execution_count": 29,
   "metadata": {},
   "outputs": [],
   "source": [
    "for i in range (len(trainLaplaceNORMAL)):\n",
    "    img=trainLaplaceNORMAL[i]\n",
    "    gray_image = cv2.cvtColor(img, cv2.COLOR_BGR2GRAY)\n",
    "    cl1 = laplace(gray_image, 10)\n",
    "    cv2.imwrite('laplace/train/NORMAL/'+str(i)+'.jpeg', cl1)"
   ]
  },
  {
   "cell_type": "code",
   "execution_count": null,
   "metadata": {},
   "outputs": [],
   "source": [
    "trainLaplacePNEUMONIA=load_images_from_folder('chest_xray/train/PNEUMONIA')"
   ]
  },
  {
   "cell_type": "code",
   "execution_count": 6,
   "metadata": {},
   "outputs": [],
   "source": [
    "for i in range (len(trainLaplacePNEUMONIA)):\n",
    "    img=trainLaplacePNEUMONIA[i]\n",
    "    gray_image = cv2.cvtColor(img, cv2.COLOR_BGR2GRAY)\n",
    "    cl1 = laplace(gray_image, 10)\n",
    "    cv2.imwrite('laplace/train/PNEUMONIA/'+str(i)+'.jpeg', cl1)"
   ]
  },
  {
   "cell_type": "code",
   "execution_count": 5,
   "metadata": {},
   "outputs": [
    {
     "name": "stdout",
     "output_type": "stream",
     "text": [
      "Found 5216 images belonging to 2 classes.\n",
      "Found 16 images belonging to 2 classes.\n",
      "Found 624 images belonging to 2 classes.\n"
     ]
    }
   ],
   "source": [
    "# Fitting the CNN to the images\n",
    "train_datagen = ImageDataGenerator(rescale = 1./255,\n",
    "                                   shear_range = 0.2,\n",
    "                                   zoom_range = 0.2,\n",
    "                                   horizontal_flip = True)\n",
    "\n",
    "test_datagen = ImageDataGenerator(rescale = 1./255)  #Image normalization.\n",
    "\n",
    "training_set = train_datagen.flow_from_directory('laplace/train',\n",
    "                                                 target_size = (64, 64),\n",
    "                                                 batch_size = 32,\n",
    "                                                 class_mode = 'binary')\n",
    "\n",
    "validation_generator = test_datagen.flow_from_directory('laplace/val/',\n",
    "    target_size=(64, 64),\n",
    "    batch_size=32,\n",
    "    class_mode='binary')\n",
    "\n",
    "test_set = test_datagen.flow_from_directory('laplace/test',\n",
    "                                            target_size = (64, 64),\n",
    "                                            batch_size = 32,\n",
    "                                            class_mode = 'binary')\n"
   ]
  },
  {
   "cell_type": "code",
   "execution_count": 6,
   "metadata": {},
   "outputs": [
    {
     "name": "stdout",
     "output_type": "stream",
     "text": [
      "Epoch 1/1\n",
      "163/163 [==============================] - 159s 976ms/step - loss: 0.5842 - accuracy: 0.7414 - val_loss: 0.8004 - val_accuracy: 0.5000\n"
     ]
    }
   ],
   "source": [
    "cnn_model = cnn.fit_generator(training_set,\n",
    "                         steps_per_epoch = 163,\n",
    "                         epochs = 1,\n",
    "                         validation_data = validation_generator,\n",
    "                         validation_steps = 624)"
   ]
  },
  {
   "cell_type": "code",
   "execution_count": 7,
   "metadata": {},
   "outputs": [
    {
     "name": "stdout",
     "output_type": "stream",
     "text": [
      "The testing accuracy is : 62.5 %\n"
     ]
    }
   ],
   "source": [
    "test_accu = cnn.evaluate_generator(test_set,steps=624)\n",
    "print('The testing accuracy is :',test_accu[1]*100, '%')"
   ]
  }
 ],
 "metadata": {
  "kernelspec": {
   "display_name": "Python 3",
   "language": "python",
   "name": "python3"
  },
  "language_info": {
   "codemirror_mode": {
    "name": "ipython",
    "version": 3
   },
   "file_extension": ".py",
   "mimetype": "text/x-python",
   "name": "python",
   "nbconvert_exporter": "python",
   "pygments_lexer": "ipython3",
   "version": "3.8.2"
  }
 },
 "nbformat": 4,
 "nbformat_minor": 4
}
